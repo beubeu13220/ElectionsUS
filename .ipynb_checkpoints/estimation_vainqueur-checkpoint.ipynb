{
 "cells": [
  {
   "cell_type": "code",
   "execution_count": 133,
   "metadata": {
    "collapsed": false
   },
   "outputs": [],
   "source": [
    "import numpy as np\n",
    "import pandas as pd\n",
    "import json\n",
    "\n",
    "def load_data(p=.6): # proba de garder un état de sa couleur politique\n",
    "    df = pd.read_csv('state.csv')\n",
    "    probas_dem = []\n",
    "    for gouv in df['gouv']:\n",
    "        if gouv == 'Rép.':\n",
    "            probas_dem.append(1 - p)\n",
    "        elif gouv == 'Dém.':\n",
    "            probas_dem.append(p)\n",
    "        else:\n",
    "            probas_dem.append(.5)\n",
    "    df['proba_dem'] = probas_dem\n",
    "    return df\n",
    "\n",
    "def update_simulation(df, etat=None, gagnant=1):\n",
    "    # a chaque résultat d'un état qui tombe on met à jour la grille des probas et on relance la simulation\n",
    "    if etat != None:\n",
    "        df.loc[np.argmax(df['State']==etat), 'proba_dem'] = gagnant # 1 si les démocrates ont pris l'état, 0 sinon\n",
    "\n",
    "    # simulation monte carlo pour estimer la proba de victoire des démocrates\n",
    "    B = 100\n",
    "    dem = 0\n",
    "    for i in range(0, B):\n",
    "        if np.sum(df['nb_elector'][np.random.rand(51) < df['proba_dem']]) > 270:\n",
    "            dem += 1\n",
    "    result = dem / B\n",
    "\n",
    "    return result\n",
    "\n",
    "df = load_data(p=.55) # à faire une fois pour calibrer le modèle\n",
    "update_simulation(df, 'CA', 1) # à relancer après chaque résultat (puis dumper dans un JSON?)"
   ]
  }
 ],
 "metadata": {
  "anaconda-cloud": {},
  "kernelspec": {
   "display_name": "Python [default]",
   "language": "python",
   "name": "python3"
  },
  "language_info": {
   "codemirror_mode": {
    "name": "ipython",
    "version": 3
   },
   "file_extension": ".py",
   "mimetype": "text/x-python",
   "name": "python",
   "nbconvert_exporter": "python",
   "pygments_lexer": "ipython3",
   "version": "3.5.2"
  }
 },
 "nbformat": 4,
 "nbformat_minor": 1
}
